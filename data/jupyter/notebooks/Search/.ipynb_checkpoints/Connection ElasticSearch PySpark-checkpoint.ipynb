{
 "cells": [
  {
   "cell_type": "markdown",
   "metadata": {},
   "source": [
    "# Connection between ElasticSearch and Pyspark"
   ]
  },
  {
   "cell_type": "markdown",
   "metadata": {},
   "source": [
    "### Read data from ElasticSearch into a spark Dataframe"
   ]
  },
  {
   "cell_type": "code",
   "execution_count": 54,
   "metadata": {},
   "outputs": [
    {
     "data": {
      "text/plain": [
       "DataFrame[title: string, description: string]"
      ]
     },
     "metadata": {},
     "output_type": "display_data"
    }
   ],
   "source": [
    "reader = spark.read.format(\"org.elasticsearch.spark.sql\") \\\n",
    "        .option(\"es.nodes\", \"elasticsearch-kibana\")\n",
    "\n",
    "df = reader.load(\"recipe/default\").select(\"title\", \"description\")\n",
    "display(df)"
   ]
  },
  {
   "cell_type": "code",
   "execution_count": 53,
   "metadata": {},
   "outputs": [
    {
     "name": "stdout",
     "output_type": "stream",
     "text": [
      "+--------------------+--------------------+\n",
      "|               title|         description|\n",
      "+--------------------+--------------------+\n",
      "|Pasta With Butter...|Brown butter-base...|\n",
      "|Shrimp Fra Diavol...|Lobster fra diavo...|\n",
      "|Spaghetti Aglio e...|One of the most b...|\n",
      "|Lighter Tuna Nood...|Pasta with a ligh...|\n",
      "|Easy Skillet Bake...|Nothing says comf...|\n",
      "|Lighter Fettuccin...|Don't get me wron...|\n",
      "|Pasta With Mushro...|A quick dinner of...|\n",
      "|Fast and Easy Pas...|Cherry tomatoes a...|\n",
      "|Cacio e Pepe (Spa...|If you were to wa...|\n",
      "|Pesto Pasta With ...|This classic Geno...|\n",
      "|One-Skillet Orecc...|Earthy, meaty mus...|\n",
      "|Vegetarian Citrus...|Sumac is a Middle...|\n",
      "|Stovetop Macaroni...|This macaroni and...|\n",
      "|Vegan Carbonara P...|Carbonara may be ...|\n",
      "|Bucatini all'Amat...|Debate rages over...|\n",
      "|Penne With Hot-As...|Exceedingly simpl...|\n",
      "|Penne With Melted...|Made with vegetab...|\n",
      "|Crispy Baked Past...|This recipe start...|\n",
      "|Ricotta Gnocchi W...|Fresh ricotta gno...|\n",
      "|Spaghetti Puttane...|\"Puttanesca\" lite...|\n",
      "+--------------------+--------------------+\n",
      "only showing top 20 rows\n",
      "\n"
     ]
    }
   ],
   "source": [
    "df.show()"
   ]
  },
  {
   "cell_type": "markdown",
   "metadata": {},
   "source": [
    "### Write data from a spark Dataframe into ElasticSearch"
   ]
  },
  {
   "cell_type": "code",
   "execution_count": 55,
   "metadata": {},
   "outputs": [],
   "source": [
    "es_index_name = \"recipe_spark\"\n",
    "es_doc_type = \"default\""
   ]
  },
  {
   "cell_type": "code",
   "execution_count": 56,
   "metadata": {},
   "outputs": [],
   "source": [
    "df.write.format(\"org.elasticsearch.spark.sql\") \\\n",
    "        .option(\"es.nodes\", \"elasticsearch-kibana\").save(es_index_name + \"/\" + es_doc_type)"
   ]
  },
  {
   "cell_type": "code",
   "execution_count": null,
   "metadata": {},
   "outputs": [],
   "source": []
  }
 ],
 "metadata": {
  "kernelspec": {
   "display_name": "Python 3",
   "language": "python",
   "name": "python3"
  },
  "language_info": {
   "codemirror_mode": {
    "name": "ipython",
    "version": 3
   },
   "file_extension": ".py",
   "mimetype": "text/x-python",
   "name": "python",
   "nbconvert_exporter": "python",
   "pygments_lexer": "ipython3",
   "version": "3.5.3"
  }
 },
 "nbformat": 4,
 "nbformat_minor": 2
}
