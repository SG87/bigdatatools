{
 "cells": [
  {
   "cell_type": "markdown",
   "metadata": {},
   "source": [
    "![Spark Logo](http://spark-mooc.github.io/web-assets/images/ta_Spark-logo-small.png)  ![Python Logo](http://spark-mooc.github.io/web-assets/images/python-logo-master-v3-TM-flattened_small.png)\n",
    "\n",
    "# **Word Count Lab: Building a word count application**\n",
    "\n",
    "This lab will build on the techniques covered in the Spark SQL tutorial to develop a simple word count application.  The volume of unstructured text in existence is growing dramatically, and Spark is an excellent tool for analyzing this type of data.  In this lab, we will write code that calculates the most common words in the [Complete Works of William Shakespeare](http://www.gutenberg.org/ebooks/100) retrieved from [Project Gutenberg](http://www.gutenberg.org/wiki/Main_Page).  This could also be scaled to larger applications, such as finding the most common words in Wikipedia.\n",
    "\n",
    "**During this lab we will cover:**\n",
    "* Part 1: Creating a base DataFrame and performing operations\n",
    "* Part 2: Counting with Spark SQL and DataFrames\n",
    "* Part 3: Finding unique words and a mean value\n",
    "* Part 4: Apply word count to a file\n",
    "* Part 5: Remove stopwords from word count\n",
    "* Part 6: Write the results to disk\n",
    "\n",
    "Note that for reference, you can look up the details of the relevant methods in [Spark's Python API](https://spark.apache.org/docs/latest/api/python/pyspark.html#pyspark.sql)."
   ]
  },
  {
   "cell_type": "markdown",
   "metadata": {},
   "source": [
    "## Part 1: Creating a base DataFrame and performing operations"
   ]
  },
  {
   "cell_type": "markdown",
   "metadata": {},
   "source": [
    "**In this part of the lab, we will explore creating a base DataFrame with `spark.createDataFrame()` and using DataFrame operations to count words. In this case the `SparkSession` is denote by `spark`.**"
   ]
  },
  {
   "cell_type": "markdown",
   "metadata": {},
   "source": [
    "### (1a) Create a DataFrame \n",
    "\n",
    "**We'll start by generating a base DataFrame by using a Python list of tuples and the `spark.createDataFrame()` method.  Then we'll print out the type and schema of the DataFrame.  The Python API has several examples for using the [`createDataFrame()` method](http://spark.apache.org/docs/latest/api/python/pyspark.sql.html#pyspark.sql.SQLContext.createDataFrame).**\n",
    "\n",
    "**Please replace `<FILL IN>` with your solution.**\n",
    "\n",
    "**This is the general form that exercises will take.  Exercises will include an explanation of what is expected, followed by code cells where one cell will have one or more `<FILL IN>` sections.  The cell that needs to be modified will have `# TODO: Replace <FILL IN> with appropriate code` on its first line.  Once the `<FILL IN>` sections are updated and the code is run, the test cell can then be run to verify the correctness of your solution.  The last code cell before the next markdown section will contain the tests.**"
   ]
  },
  {
   "cell_type": "code",
   "execution_count": 1,
   "metadata": {},
   "outputs": [
    {
     "name": "stdout",
     "output_type": "stream",
     "text": [
      "+--------+\n",
      "|    word|\n",
      "+--------+\n",
      "|     cat|\n",
      "|elephant|\n",
      "|     rat|\n",
      "|     rat|\n",
      "|     cat|\n",
      "+--------+\n",
      "\n",
      "<class 'pyspark.sql.dataframe.DataFrame'>\n",
      "root\n",
      " |-- word: string (nullable = true)\n",
      "\n"
     ]
    }
   ],
   "source": [
    "# TODO: Replace <FILL IN> with appropriate code\n",
    "wordsDF = <FILL IN>([('cat',), ('elephant',), ('rat',), ('rat',), ('cat', )], ['word'])\n",
    "wordsDF.show()\n",
    "print(type(wordsDF))\n",
    "wordsDF.printSchema()"
   ]
  },
  {
   "cell_type": "code",
   "execution_count": 2,
   "metadata": {},
   "outputs": [
    {
     "name": "stdout",
     "output_type": "stream",
     "text": [
      "1 test passed.\n",
      "1 test passed.\n"
     ]
    }
   ],
   "source": [
    "# Load in the testing code and check to see if your answer is correct\n",
    "# If incorrect it will report back '1 test failed' for each failed test\n",
    "# Make sure to rerun any cell you change before trying the test again\n",
    "from test_helper import Test\n",
    "# TEST Using DataFrame functions to add an 's' (1b)\n",
    "Test.assertEquals(wordsDF.first()[0], 'cat', 'incorrect result: you need to add an s')\n",
    "Test.assertEquals(wordsDF.columns, ['word'], \"there should be one column named 'word'\")"
   ]
  },
  {
   "cell_type": "markdown",
   "metadata": {},
   "source": [
    "### (1b) Using DataFrame functions to add an 's'\n",
    "\n",
    "**Let's create a new DataFrame from `wordsDF` by performing an operation that adds an 's' to each word.  To do this, we'll call the [`withColumn` DataFrame function](http://spark.apache.org/docs/latest/api/python/pyspark.sql.html#pyspark.sql.DataFrame.withColumn) and pass in a column that has the recipe for adding an 's' to our existing column.  To generate this `Column` object you should use the [`concat` function](http://spark.apache.org/docs/latest/api/python/pyspark.sql.html#pyspark.sql.functions.concat) found in the [`pyspark.sql.functions` module](http://spark.apache.org/docs/latest/api/python/pyspark.sql.html#module-pyspark.sql.functions).  Note that `concat` takes in two or more string columns and returns a single string column.  In order to pass in a constant or literal value like 's', you'll need to wrap that value with the [`lit()` column function](http://spark.apache.org/docs/latest/api/python/pyspark.sql.html#pyspark.sql.functions.lit).**\n",
    "\n",
    "**Please replace `<FILL IN>` with your solution.  After you have created `pluralDF` you can run the next cell which contains two tests.  If you implementation is correct it will print `1 test passed` for each test.**\n",
    "\n",
    "> Note:\n",
    "> Make sure that the resulting DataFrame has one column which is named 'word'."
   ]
  },
  {
   "cell_type": "code",
   "execution_count": 5,
   "metadata": {},
   "outputs": [
    {
     "name": "stdout",
     "output_type": "stream",
     "text": [
      "+---------+\n",
      "|     word|\n",
      "+---------+\n",
      "|     cats|\n",
      "|elephants|\n",
      "|     rats|\n",
      "|     rats|\n",
      "|     cats|\n",
      "+---------+\n",
      "\n"
     ]
    }
   ],
   "source": [
    "# TODO: Replace <FILL IN> with appropriate code\n",
    "from pyspark.sql.functions import lit, concat\n",
    "pluralDF = wordsDF.<FILL IN>\n",
    "pluralDF.show()"
   ]
  },
  {
   "cell_type": "code",
   "execution_count": 6,
   "metadata": {},
   "outputs": [
    {
     "name": "stdout",
     "output_type": "stream",
     "text": [
      "1 test passed.\n",
      "1 test passed.\n"
     ]
    }
   ],
   "source": [
    "# TEST Using DataFrame functions to add an 's' (1b)\n",
    "Test.assertEquals(pluralDF.first()[0], 'cats', 'incorrect result: you need to add an s')\n",
    "Test.assertEquals(pluralDF.columns, ['word'], \"there should be one column named 'word'\")"
   ]
  },
  {
   "cell_type": "markdown",
   "metadata": {},
   "source": [
    "### (1c) Length of each word\n",
    "\n",
    "**Now use the SQL `length()` function to find the number of characters in each word.  The [`length()` function](http://spark.apache.org/docs/latest/api/python/pyspark.sql.html#pyspark.sql.functions.length) is found in the `pyspark.sql.functions` module.**"
   ]
  },
  {
   "cell_type": "code",
   "execution_count": 7,
   "metadata": {},
   "outputs": [
    {
     "name": "stdout",
     "output_type": "stream",
     "text": [
      "+------------+\n",
      "|length(word)|\n",
      "+------------+\n",
      "|           4|\n",
      "|           9|\n",
      "|           4|\n",
      "|           4|\n",
      "|           4|\n",
      "+------------+\n",
      "\n"
     ]
    }
   ],
   "source": [
    "# TODO: Replace <FILL IN> with appropriate code\n",
    "from pyspark.sql.functions import length\n",
    "pluralLengthsDF = pluralDF.<FILL IN>\n",
    "pluralLengthsDF.show()"
   ]
  },
  {
   "cell_type": "code",
   "execution_count": 8,
   "metadata": {},
   "outputs": [
    {
     "name": "stdout",
     "output_type": "stream",
     "text": [
      "1 test passed.\n"
     ]
    }
   ],
   "source": [
    "# TEST Length of each word (1e)\n",
    "from collections import Iterable\n",
    "asSelf = lambda v: map(lambda r: r[0] if isinstance(r, Iterable) and len(r) == 1 else r, v)\n",
    "Test.assertEquals(set(asSelf(pluralLengthsDF.collect())), {4, 9, 4, 4, 4},\n",
    "                  'incorrect values for pluralLengths')"
   ]
  },
  {
   "cell_type": "markdown",
   "metadata": {},
   "source": [
    "## Part 2: Counting with Spark SQL and DataFrames"
   ]
  },
  {
   "cell_type": "markdown",
   "metadata": {},
   "source": [
    "**Now, let's count the number of times a particular word appears in the 'word' column. There are multiple ways to perform the counting, but some are much less efficient than others.**\n",
    "\n",
    "**A naive approach would be to call `collect()` on all of the elements and count them in the driver program. While this approach could work for small datasets, we want an approach that will work for any size dataset including terabyte- or petabyte-sized datasets. In addition, performing all of the work in the driver program is slower than performing it in parallel in the workers. For these reasons, we will use data parallel operations.**"
   ]
  },
  {
   "cell_type": "markdown",
   "metadata": {},
   "source": [
    "### (2a) Using `groupBy()` and `count()`\n",
    "\n",
    "**Using DataFrames, we can preform aggregations by grouping the data using the [`groupBy()` function](http://spark.apache.org/docs/latest/api/python/pyspark.sql.html#pyspark.sql.DataFrame.groupBy) on the DataFrame.  Using `groupBy()` returns a [`GroupedData` object](http://spark.apache.org/docs/latest/api/python/pyspark.sql.html#pyspark.sql.GroupedData) and we can use the functions available for `GroupedData` to aggregate the groups.  For example, we can call `avg()` or `count()` on a `GroupedData` object to obtain the average of the values in the groups or the number of occurrences in the groups, respectively.**\n",
    "\n",
    "**To find the counts of words, group by the words and then use the [`count()` function](http://spark.apache.org/docs/latest/api/python/pyspark.sql.html#pyspark.sql.GroupedData.count) to find the number of times that words occur.**"
   ]
  },
  {
   "cell_type": "code",
   "execution_count": 9,
   "metadata": {},
   "outputs": [
    {
     "name": "stdout",
     "output_type": "stream",
     "text": [
      "+--------+-----+\n",
      "|    word|count|\n",
      "+--------+-----+\n",
      "|     rat|    2|\n",
      "|     cat|    2|\n",
      "|elephant|    1|\n",
      "+--------+-----+\n",
      "\n"
     ]
    }
   ],
   "source": [
    "# TODO: Replace <FILL IN> with appropriate code\n",
    "wordCountsDF = (wordsDF.<FILL IN>)\n",
    "wordCountsDF.show()"
   ]
  },
  {
   "cell_type": "code",
   "execution_count": 10,
   "metadata": {},
   "outputs": [
    {
     "name": "stdout",
     "output_type": "stream",
     "text": [
      "1 test passed.\n"
     ]
    }
   ],
   "source": [
    "# TEST groupBy and count (2a)\n",
    "Test.assertEquals(set(wordCountsDF.collect()), {('rat', 2), ('elephant', 1), ('cat', 2)},\n",
    "                 'incorrect counts for wordCountsDF')"
   ]
  },
  {
   "cell_type": "markdown",
   "metadata": {},
   "source": [
    "## Part 3: Finding unique words and a mean value"
   ]
  },
  {
   "cell_type": "markdown",
   "metadata": {},
   "source": [
    "### (3a) Unique words\n",
    "\n",
    "**Calculate the number of unique words in `wordsDF`.  You can use other DataFrames that you have already created to make this easier.**"
   ]
  },
  {
   "cell_type": "code",
   "execution_count": 10,
   "metadata": {},
   "outputs": [
    {
     "name": "stdout",
     "output_type": "stream",
     "text": [
      "3\n"
     ]
    }
   ],
   "source": [
    "# TODO: Replace <FILL IN> with appropriate code\n",
    "uniqueWordsCount = <FILL IN>\n",
    "print(uniqueWordsCount)"
   ]
  },
  {
   "cell_type": "code",
   "execution_count": 11,
   "metadata": {},
   "outputs": [
    {
     "name": "stdout",
     "output_type": "stream",
     "text": [
      "1 test passed.\n"
     ]
    }
   ],
   "source": [
    "# TEST Unique words (3a)\n",
    "Test.assertEquals(uniqueWordsCount, 3, 'incorrect count of unique words')"
   ]
  },
  {
   "cell_type": "markdown",
   "metadata": {},
   "source": [
    "### (3b) Means of groups using DataFrames **\n",
    " \n",
    "**Find the mean number of occurrences of words in `wordCountsDF`.**\n",
    "\n",
    "**You should use the [`mean()` GroupedData method](http://spark.apache.org/docs/latest/api/python/pyspark.sql.html#pyspark.sql.GroupedData.mean) to accomplish this.  Note that when you use `groupBy()` you don't need to pass in any columns.  A call without columns just prepares the DataFrame so that aggregation functions like `mean()` can be applied.**"
   ]
  },
  {
   "cell_type": "code",
   "execution_count": 12,
   "metadata": {},
   "outputs": [
    {
     "name": "stdout",
     "output_type": "stream",
     "text": [
      "1.66666666667\n"
     ]
    }
   ],
   "source": [
    "# TODO: Replace <FILL IN> with appropriate code\n",
    "averageCount = (wordCountsDF\n",
    "                <FILL IN>)\n",
    "\n",
    "print(averageCount)"
   ]
  },
  {
   "cell_type": "code",
   "execution_count": 34,
   "metadata": {},
   "outputs": [
    {
     "name": "stdout",
     "output_type": "stream",
     "text": [
      "1 test passed.\n"
     ]
    }
   ],
   "source": [
    "# TEST Means of groups using DataFrames (3b)\n",
    "Test.assertEquals(round(averageCount, 2), 1.67, 'incorrect value of averageCount')"
   ]
  },
  {
   "cell_type": "markdown",
   "metadata": {},
   "source": [
    "## Part 4: Apply word count to a file"
   ]
  },
  {
   "cell_type": "markdown",
   "metadata": {},
   "source": [
    "**In this section we will finish developing our word count application.  We'll have to build the `wordCount` function, deal with real world problems like capitalization and punctuation, load in our data source, and compute the word count on the new data.**"
   ]
  },
  {
   "cell_type": "markdown",
   "metadata": {},
   "source": [
    "#### (4a) The `wordCount()` function\n",
    "\n",
    "**First, define a function for word counting.  You should reuse the techniques that have been covered in earlier parts of this lab.  This function should take in a DataFrame that is a list of words like `wordsDF` and return a DataFrame that has all of the words and their associated counts.**"
   ]
  },
  {
   "cell_type": "code",
   "execution_count": 14,
   "metadata": {},
   "outputs": [
    {
     "name": "stdout",
     "output_type": "stream",
     "text": [
      "+--------+-----+\n",
      "|    word|count|\n",
      "+--------+-----+\n",
      "|     rat|    2|\n",
      "|     cat|    2|\n",
      "|elephant|    1|\n",
      "+--------+-----+\n",
      "\n"
     ]
    }
   ],
   "source": [
    "def wordCount(wordListDF):\n",
    "    \"\"\"Creates a DataFrame with word counts.\n",
    "\n",
    "    Args:\n",
    "        wordListDF (DataFrame of str): A DataFrame consisting of one string column called 'word'.\n",
    "\n",
    "    Returns:\n",
    "        DataFrame of (str, int): A DataFrame containing 'word' and 'count' columns.\n",
    "    \"\"\"\n",
    "    return <FILL IN>\n",
    "\n",
    "wordCount(wordsDF).show()"
   ]
  },
  {
   "cell_type": "code",
   "execution_count": 15,
   "metadata": {},
   "outputs": [
    {
     "name": "stdout",
     "output_type": "stream",
     "text": [
      "1 test passed.\n"
     ]
    }
   ],
   "source": [
    "# TEST wordCount function (4a)\n",
    "res = [(row[0], row[1]) for row in wordCount(wordsDF).collect()]\n",
    "Test.assertEquals(sorted(res),\n",
    "                  [('cat', 2), ('elephant', 1), ('rat', 2)],\n",
    "                  'incorrect definition for wordCountDF function')"
   ]
  },
  {
   "cell_type": "markdown",
   "metadata": {},
   "source": [
    "### (4b) Capitalization and punctuation\n",
    " \n",
    "**Real world files are more complicated than the data we have been using in this lab. Some of the issues we have to address are:**\n",
    "   + Words should be counted independent of their capitialization (e.g., Spark and spark should be counted as the same word).\n",
    "   + All punctuation should be removed.\n",
    "   + Any leading or trailing spaces on a line should be removed.\n",
    " \n",
    "**Define the function `removePunctuation()` that converts all text to lower case, removes any punctuation, and removes leading and trailing spaces.  Use the Python [regexp_replace](http://spark.apache.org/docs/latest/api/python/pyspark.sql.html#pyspark.sql.functions.regexp_replace) module to remove any text that is not a letter, number, or space. If you are unfamiliar with regular expressions, you may want to review [this tutorial](https://developers.google.com/edu/python/regular-expressions) from Google.  Also, [this website](https://regex101.com/#python) is  a great resource for debugging your regular expression.**\n",
    "\n",
    "**You should also use the `trim()` and `lower()` functions found in [pyspark.sql.functions](http://spark.apache.org/docs/latest/api/python/pyspark.sql.html#pyspark.sql.functions).**\n",
    " \n",
    "> Note that you shouldn't use any RDD operations or need to create custom user defined functions (udfs) to accomplish this task\n",
    "> Use this regex expression: \"[^0-9a-zA-Z ]\""
   ]
  },
  {
   "cell_type": "code",
   "execution_count": 1,
   "metadata": {},
   "outputs": [
    {
     "ename": "SyntaxError",
     "evalue": "invalid syntax (<ipython-input-1-d5a5231273b3>, line 17)",
     "output_type": "error",
     "traceback": [
      "\u001b[0;36m  File \u001b[0;32m\"<ipython-input-1-d5a5231273b3>\"\u001b[0;36m, line \u001b[0;32m17\u001b[0m\n\u001b[0;31m    return <FILL IN>\u001b[0m\n\u001b[0m           ^\u001b[0m\n\u001b[0;31mSyntaxError\u001b[0m\u001b[0;31m:\u001b[0m invalid syntax\n"
     ]
    }
   ],
   "source": [
    "from pyspark.sql.functions import col, trim, lower, regexp_replace\n",
    "import re\n",
    "def removePunctuation(column):\n",
    "    \"\"\"Removes punctuation, changes to lower case, and strips leading and trailing spaces.\n",
    "\n",
    "    Note:\n",
    "        Only spaces, letters, and numbers should be retained.  Other characters should should be\n",
    "        eliminated (e.g. it's becomes its).  Leading and trailing spaces should be removed after\n",
    "        punctuation is removed.\n",
    "\n",
    "    Args:\n",
    "        column (Column): A Column containing a sentence.\n",
    "\n",
    "    Returns:\n",
    "        Column: A Column named 'sentence' with clean-up operations applied.\n",
    "    \"\"\"\n",
    "    return <FILL IN>\n",
    "\n",
    "sentenceDF = sqlContext.createDataFrame([('Hi, you!',),\n",
    "                                         (' No under_score!',),\n",
    "                                         (' *      Remove punctuation then spaces  * ',)], ['sentence'])\n",
    "sentenceDF.show(truncate=False)\n",
    "(sentenceDF\n",
    " .select(removePunctuation(col('sentence')))\n",
    " .show(truncate=False))"
   ]
  },
  {
   "cell_type": "code",
   "execution_count": 59,
   "metadata": {},
   "outputs": [
    {
     "name": "stdout",
     "output_type": "stream",
     "text": [
      "1 test passed.\n"
     ]
    }
   ],
   "source": [
    "# TEST Capitalization and punctuation (4b)\n",
    "testPunctDF = sqlContext.createDataFrame([(\" The Elephant's 4 cats. \",)])\n",
    "Test.assertEquals(testPunctDF.select(removePunctuation(col('_1'))).first()[0],\n",
    "                  'the elephants 4 cats',\n",
    "                  'incorrect definition for removePunctuation function')"
   ]
  },
  {
   "cell_type": "markdown",
   "metadata": {},
   "source": [
    "### (4c) Load a text file\n",
    "\n",
    "**For the next part of this lab, we will use the [Complete Works of William Shakespeare](http://www.gutenberg.org/ebooks/100) from [Project Gutenberg](http://www.gutenberg.org/wiki/Main_Page). To convert a text file into a DataFrame, we use the `spark.read.csv()` method. We also apply the recently defined `removePunctuation()` function using a `select()` transformation to strip out the punctuation and change all text to lower case.  Since the file is large we use `show(15)`, so that we only print 15 lines.**"
   ]
  },
  {
   "cell_type": "markdown",
   "metadata": {},
   "source": [
    "**_NEW!_**"
   ]
  },
  {
   "cell_type": "code",
   "execution_count": 41,
   "metadata": {},
   "outputs": [
    {
     "name": "stdout",
     "output_type": "stream",
     "text": [
      "+-------------------------------------------------+\n",
      "|value                                            |\n",
      "+-------------------------------------------------+\n",
      "|1609                                             |\n",
      "|the sonnets                                      |\n",
      "|by william shakespeare                           |\n",
      "|1                                                |\n",
      "|from fairest creatures we desire increase        |\n",
      "|that thereby beautys rose might never die        |\n",
      "|but as the riper should by time decease          |\n",
      "|his tender heir might bear his memory            |\n",
      "|but thou contracted to thine own bright eyes     |\n",
      "|feedst thy lights flame with selfsubstantial fuel|\n",
      "|making a famine where abundance lies             |\n",
      "|thy self thy foe                                 |\n",
      "|thou that art now the worlds fresh ornament      |\n",
      "|and only herald to the gaudy spring              |\n",
      "|within thine own bud buriest thy content         |\n",
      "+-------------------------------------------------+\n",
      "only showing top 15 rows\n",
      "\n"
     ]
    }
   ],
   "source": [
    "### TO-DO: Replace <FILL IN> with your username\n",
    "\n",
    "shakespeareDF = spark.<FILL-IN>.select(removePunctuation(col('_c0')).alias(\"value\"))\n",
    "shakespeareDF.show(15, truncate=False)"
   ]
  },
  {
   "cell_type": "markdown",
   "metadata": {},
   "source": [
    "### (4d) Words from lines\n",
    " \n",
    "**Before we can use the `wordcount()` function, we have to address two issues with the format of the DataFrame:**\n",
    "    + The first issue is that  that we need to split each line by its spaces.\n",
    "    + The second issue is we need to filter out empty lines or words.\n",
    "\n",
    "**Apply a transformation that will split each 'sentence' in the DataFrame by its spaces, and then transform from a DataFrame that contains lists of words into a DataFrame with each word in its own row.  To accomplish these two tasks you can use the `split()` and `explode()` functions found in [pyspark.sql.functions](http://spark.apache.org/docs/latest/api/python/pyspark.sql.html#pyspark.sql.functions).**\n",
    " \n",
    "**Once you have a DataFrame with one word per row you can apply the [DataFrame operation `where()`](http://spark.apache.org/docs/latest/api/python/pyspark.sql.html#pyspark.sql.DataFrame.where) to remove the rows that contain ''.**\n",
    "\n",
    "> Note that `shakeWordsDF` should be a DataFrame with one column named `word`."
   ]
  },
  {
   "cell_type": "code",
   "execution_count": 49,
   "metadata": {},
   "outputs": [
    {
     "name": "stdout",
     "output_type": "stream",
     "text": [
      "+-----------+\n",
      "|       word|\n",
      "+-----------+\n",
      "|       1609|\n",
      "|        the|\n",
      "|    sonnets|\n",
      "|         by|\n",
      "|    william|\n",
      "|shakespeare|\n",
      "|          1|\n",
      "|       from|\n",
      "|    fairest|\n",
      "|  creatures|\n",
      "|         we|\n",
      "|     desire|\n",
      "|   increase|\n",
      "|       that|\n",
      "|    thereby|\n",
      "|    beautys|\n",
      "|       rose|\n",
      "|      might|\n",
      "|      never|\n",
      "|        die|\n",
      "+-----------+\n",
      "only showing top 20 rows\n",
      "\n",
      "683286\n"
     ]
    }
   ],
   "source": [
    "# TODO: Replace <FILL IN> with appropriate code\n",
    "from pyspark.sql.functions import split, explode\n",
    "shakeWordsDF = (shakespeareDF\n",
    "                <FILL IN>)\n",
    "\n",
    "shakeWordsDF.show()\n",
    "shakeWordsDFCount = shakeWordsDF.count()\n",
    "print(shakeWordsDFCount)"
   ]
  },
  {
   "cell_type": "code",
   "execution_count": 51,
   "metadata": {},
   "outputs": [
    {
     "name": "stdout",
     "output_type": "stream",
     "text": [
      "1 test passed.\n",
      "1 test passed.\n"
     ]
    }
   ],
   "source": [
    "# TEST Remove empty elements (4d)\n",
    "Test.assertEquals(shakeWordsDF.count(), 683286, 'incorrect value for shakeWordCount')\n",
    "Test.assertEquals(shakeWordsDF.columns, ['word'], \"shakeWordsDF should only contain the Column 'word'\")"
   ]
  },
  {
   "cell_type": "markdown",
   "metadata": {},
   "source": [
    "### (4e) Count the words\n",
    "\n",
    "**We now have a DataFrame that is only words.  Next, let's apply the `wordCount()` function to produce a list of word counts. We can view the first 20 words by using the `show()` action; however, we'd like to see the words in descending order of count, so we'll need to apply the [`orderBy()` DataFrame method](http://spark.apache.org/docs/latest/api/python/pyspark.sql.html#pyspark.sql.DataFrame.orderBy) to first sort the DataFrame that is returned from `wordCount()`.**"
   ]
  },
  {
   "cell_type": "code",
   "execution_count": 61,
   "metadata": {},
   "outputs": [
    {
     "name": "stdout",
     "output_type": "stream",
     "text": [
      "+----+-----+\n",
      "|word|count|\n",
      "+----+-----+\n",
      "|    |26266|\n",
      "| the|21112|\n",
      "| and|16970|\n",
      "|  to|14864|\n",
      "|   i|14232|\n",
      "|  of|13953|\n",
      "|   a|10697|\n",
      "| you| 9145|\n",
      "|that| 8547|\n",
      "|  in| 8323|\n",
      "|  my| 8109|\n",
      "|  is| 6782|\n",
      "| not| 5954|\n",
      "|with| 5714|\n",
      "|  me| 5629|\n",
      "| for| 5470|\n",
      "|  it| 5444|\n",
      "| his| 5349|\n",
      "|this| 5202|\n",
      "|  be| 5054|\n",
      "+----+-----+\n",
      "only showing top 20 rows\n",
      "\n"
     ]
    }
   ],
   "source": [
    "# TODO: Replace <FILL IN> with appropriate code\n",
    "from pyspark.sql.functions import desc\n",
    "topWordsAndCountsDF = <FILL IN>\n",
    "topWordsAndCountsDF.show()"
   ]
  },
  {
   "cell_type": "code",
   "execution_count": 64,
   "metadata": {},
   "outputs": [
    {
     "name": "stdout",
     "output_type": "stream",
     "text": [
      "1 test passed.\n"
     ]
    }
   ],
   "source": [
    "# TEST Count the words (4e)\n",
    "Test.assertEquals(topWordsAndCountsDF.take(15),\n",
    "                  [('', 26266), (u'the', 21112), (u'and', 16970),(u'to', 14864), (u'i', 14232),  \n",
    "                   (u'of', 13953), (u'a', 10697), (u'you', 9145), (u'that', 8547), (u'in', 8323), \n",
    "                   (u'my', 8109), (u'is', 6782), (u'not', 5954), (u'with', 5714), (u'me', 5629)],\n",
    "                  'incorrect value for top15WordsAndCountsDF')"
   ]
  },
  {
   "cell_type": "markdown",
   "metadata": {},
   "source": [
    "## Part 5: Remove stopwords from word count"
   ]
  },
  {
   "cell_type": "markdown",
   "metadata": {},
   "source": [
    "### (5a) Import stopwords into a dataframe"
   ]
  },
  {
   "cell_type": "markdown",
   "metadata": {},
   "source": [
    "**Removing stopwords by hand is fairly impossible. Luckely Python has a module for almost every imaginable problem. This is also the case for stopword removal, or at least a module containing a list with stopwords. This module has the creative name [`stop_words`](https://pypi.python.org/pypi/stop-words). First we are going to import the `get_stop_words()` function from the `stop_words` module. **\n",
    "\n",
    "** Aterwards, a list with a tuple containing the stopword itself and a boolean value that is always true, indicating the word is a stopword **\n",
    "\n",
    "** Finally, a SparkDataFrame is created with two columns named _word_ and _stopword_ should be created. To do this, you should use the [`createDataFrame()` method](http://spark.apache.org/docs/latest/api/python/pyspark.sql.html#pyspark.sql.SQLContext.createDataFrame). **"
   ]
  },
  {
   "cell_type": "code",
   "execution_count": 72,
   "metadata": {},
   "outputs": [],
   "source": [
    "from stop_words import get_stop_words"
   ]
  },
  {
   "cell_type": "code",
   "execution_count": 83,
   "metadata": {},
   "outputs": [],
   "source": [
    "stopWords = list(map(lambda sw: (str(sw), True), get_stop_words('en')))"
   ]
  },
  {
   "cell_type": "code",
   "execution_count": 89,
   "metadata": {},
   "outputs": [
    {
     "name": "stdout",
     "output_type": "stream",
     "text": [
      "+-------+--------+\n",
      "|   word|stopword|\n",
      "+-------+--------+\n",
      "|      a|    true|\n",
      "|  about|    true|\n",
      "|  above|    true|\n",
      "|  after|    true|\n",
      "|  again|    true|\n",
      "|against|    true|\n",
      "|    all|    true|\n",
      "|     am|    true|\n",
      "|     an|    true|\n",
      "|    and|    true|\n",
      "|    any|    true|\n",
      "|    are|    true|\n",
      "| aren't|    true|\n",
      "|     as|    true|\n",
      "|     at|    true|\n",
      "|     be|    true|\n",
      "|because|    true|\n",
      "|   been|    true|\n",
      "| before|    true|\n",
      "|  being|    true|\n",
      "+-------+--------+\n",
      "only showing top 20 rows\n",
      "\n"
     ]
    }
   ],
   "source": [
    "# TODO: Replace <FILL IN> with appropriate code\n",
    "stopWordsDF = spark.<FILL IN>\n",
    "\n",
    "stopWordsDF.show()\n",
    "stopWordsDF.count()"
   ]
  },
  {
   "cell_type": "code",
   "execution_count": 122,
   "metadata": {},
   "outputs": [
    {
     "name": "stdout",
     "output_type": "stream",
     "text": [
      "1 test passed.\n",
      "1 test passed.\n"
     ]
    }
   ],
   "source": [
    "# TEST creation of stopWordDF\n",
    "Test.assertEquals(stopWordsDF.first()[0], 'a', 'incorrect result: the first stopword should be a')\n",
    "Test.assertEquals(stopWordsDF.columns, ['word', 'stopword'], \"there should be two columns named 'word' and 'stopword'\")"
   ]
  },
  {
   "cell_type": "markdown",
   "metadata": {},
   "source": [
    "### (5b) Combining word count dataframe and stopword dataframe\n",
    "\n",
    "After creating a stopword dataframe we need to combine this dataframe with the orginal word count dataframe to identify the stopwords. This combination can be done by using [`join()` method](http://spark.apache.org/docs/latest/api/python/pyspark.sql.html#pyspark.sql.DataFrame.join). \n",
    "\n",
    "> We are not interested in the frequency of the stopwords, but only in other words. Additionally, we do not want to lose \"non-stopwords\" within the joining process. Choose your joining method wisely!"
   ]
  },
  {
   "cell_type": "code",
   "execution_count": 123,
   "metadata": {},
   "outputs": [
    {
     "name": "stdout",
     "output_type": "stream",
     "text": [
      "+-------------+-----+--------+\n",
      "|         word|count|stopword|\n",
      "+-------------+-----+--------+\n",
      "| accumulation|    1|    null|\n",
      "|      acheron|    3|    null|\n",
      "|apprehensions|    2|    null|\n",
      "|    arguments|    9|    null|\n",
      "|          art|  608|    null|\n",
      "|      augures|    1|    null|\n",
      "|        bebut|    1|    null|\n",
      "|     besmeard|    2|    null|\n",
      "|       biting|    6|    null|\n",
      "|      blossom|    7|    null|\n",
      "|       brands|    5|    null|\n",
      "|     briefest|    1|    null|\n",
      "|        bushs|    1|    null|\n",
      "|   censorinus|    1|    null|\n",
      "|          ces|    1|    null|\n",
      "|        chien|    1|    null|\n",
      "|         chor|    2|    null|\n",
      "|         clog|    6|    null|\n",
      "|    colmekill|    1|    null|\n",
      "|   commanders|    6|    null|\n",
      "+-------------+-----+--------+\n",
      "only showing top 20 rows\n",
      "\n"
     ]
    },
    {
     "data": {
      "text/plain": [
       "25028"
      ]
     },
     "execution_count": 123,
     "metadata": {},
     "output_type": "execute_result"
    }
   ],
   "source": [
    "# TODO: Replace <FILL IN> with appropriate code\n",
    "stopTopWordsDF = topWordsAndCountsDF.<FILL IN>\n",
    "\n",
    "stopTopWordsDF.show()\n",
    "stopTopWordsDF.count()"
   ]
  },
  {
   "cell_type": "code",
   "execution_count": 119,
   "metadata": {},
   "outputs": [
    {
     "name": "stdout",
     "output_type": "stream",
     "text": [
      "1 test passed.\n",
      "1 test passed.\n"
     ]
    }
   ],
   "source": [
    "# TEST joining of dataframes\n",
    "Test.assertEquals(stopTopWordsDF.first()[0], 'accumulation', 'incorrect result: the first stopword should be accumulation')\n",
    "Test.assertEquals(len(stopTopWordsDF.columns), 3, \"there should be three columns named 'word', 'count', and 'stopword'\")"
   ]
  },
  {
   "cell_type": "markdown",
   "metadata": {},
   "source": [
    "* ** Remark: In this part you can see the usefulness of _caching_. As Spark uses lazy evaluation, a lineage will only be executed when encountering an action. Additionally, when encountering 2 actions the lineage will be completely executed twice. If we `cache()` the dataframe, the dataframe will be saved into memory and the second action will go faster. In this part we have two actions `show()` and `count()` and consequently we can benefit from caching.**\n",
    "\n",
    "> Remind that caching leads to additional use of memory as can be seen in the [UI](http://13.95.223.160:4040/storage/). Here a trade-off between execution time and memory consumptions needs to be made."
   ]
  },
  {
   "cell_type": "code",
   "execution_count": null,
   "metadata": {},
   "outputs": [],
   "source": [
    "# Without caching\n",
    "import time\n",
    "\n",
    "st = time.time()\n",
    "stopTopWordsDF.show()\n",
    "showTime = time.time() - st\n",
    "\n",
    "st = time.time()\n",
    "stopTopWordsDF.count()\n",
    "countTime = time.time() - st\n",
    "\n",
    "print(\"Without caching the show() action will take: %s seconds and the count() action will take %s \" % (showTime,countTime))"
   ]
  },
  {
   "cell_type": "code",
   "execution_count": null,
   "metadata": {},
   "outputs": [],
   "source": [
    "# With caching\n",
    "stopTopWordsDF.cache()\n",
    "st = time.time()\n",
    "stopTopWordsDF.show()\n",
    "showTime = time.time() - st\n",
    "\n",
    "st = time.time()\n",
    "stopTopWordsDF.count()\n",
    "countTime = time.time() - st\n",
    "\n",
    "print(\"WITH caching the show() action will take: %s seconds and the count() action will take %s \" % (showTime,countTime))"
   ]
  },
  {
   "cell_type": "markdown",
   "metadata": {},
   "source": [
    "### (5c) Removing stopwords and the 'empty' word\n",
    "\n",
    "** In this part we want to filter out all stopwords. To do this we want to use the [`filter()` method](http://spark.apache.org/docs/latest/api/python/pyspark.sql.html#pyspark.sql.DataFrame.filter). We are going to use it twice. First, to retain the rows where stopwords = null (=missing). Second, to remove _empty_ values in the word column. **\n",
    "\n",
    "> Note 1: To retain only null values in the stopword column, have a look at the [`isNull()` method](http://spark.apache.org/docs/latest/api/python/pyspark.sql.html#pyspark.sql.Column.isNull)\n",
    "\n",
    "> Note 2: To remove words not equal to _empty_, use the not equal sign (!=) and declare the empty character by using two parentheses ('')."
   ]
  },
  {
   "cell_type": "code",
   "execution_count": 108,
   "metadata": {},
   "outputs": [
    {
     "name": "stdout",
     "output_type": "stream",
     "text": [
      "+-------------+-----+--------+\n",
      "|         word|count|stopword|\n",
      "+-------------+-----+--------+\n",
      "| accumulation|    1|    null|\n",
      "|      acheron|    3|    null|\n",
      "|apprehensions|    2|    null|\n",
      "|    arguments|    9|    null|\n",
      "|          art|  608|    null|\n",
      "|      augures|    1|    null|\n",
      "|        bebut|    1|    null|\n",
      "|     besmeard|    2|    null|\n",
      "|       biting|    6|    null|\n",
      "|      blossom|    7|    null|\n",
      "|       brands|    5|    null|\n",
      "|     briefest|    1|    null|\n",
      "|        bushs|    1|    null|\n",
      "|   censorinus|    1|    null|\n",
      "|          ces|    1|    null|\n",
      "|        chien|    1|    null|\n",
      "|         chor|    2|    null|\n",
      "|         clog|    6|    null|\n",
      "|    colmekill|    1|    null|\n",
      "|   commanders|    6|    null|\n",
      "+-------------+-----+--------+\n",
      "only showing top 20 rows\n",
      "\n"
     ]
    },
    {
     "data": {
      "text/plain": [
       "24903"
      ]
     },
     "execution_count": 108,
     "metadata": {},
     "output_type": "execute_result"
    }
   ],
   "source": [
    "# TODO: Replace <FILL IN> with appropriate code\n",
    "stopTopWordsFiltDF = stopTopWordsDF.<FILL IN>\n",
    "\n",
    "stopTopWordsFiltDF.show()\n",
    "stopTopWordsFiltDF.count()"
   ]
  },
  {
   "cell_type": "code",
   "execution_count": 125,
   "metadata": {},
   "outputs": [
    {
     "name": "stdout",
     "output_type": "stream",
     "text": [
      "1 test passed.\n"
     ]
    }
   ],
   "source": [
    "# TEST filtering\n",
    "Test.assertEquals(stopTopWordsFiltDF.count(), 24903, \"There should be 24903 words in the DataFrame\")"
   ]
  },
  {
   "cell_type": "markdown",
   "metadata": {},
   "source": [
    "### (5d) Order the dataframe\n",
    "\n",
    "** To be able to see the most popular words within the works of Shakespeare, we have to do an ordering similar to excercise (4e). **\n",
    "\n",
    "** Next to that, it would be cleaner to remove the _stopword_ column, because it is not used anymore. To remove this column you can use the [`drop()` method](http://spark.apache.org/docs/latest/api/python/pyspark.sql.html#pyspark.sql.DataFrameNaFunctions.drop). **"
   ]
  },
  {
   "cell_type": "code",
   "execution_count": 120,
   "metadata": {},
   "outputs": [
    {
     "name": "stdout",
     "output_type": "stream",
     "text": [
      "+-----+-----+\n",
      "| word|count|\n",
      "+-----+-----+\n",
      "| thou| 3755|\n",
      "| will| 3516|\n",
      "|  thy| 2945|\n",
      "|shall| 2768|\n",
      "| king| 2428|\n",
      "| thee| 2295|\n",
      "|    o| 2279|\n",
      "|  now| 2158|\n",
      "|enter| 2055|\n",
      "| well| 1813|\n",
      "| come| 1729|\n",
      "| good| 1636|\n",
      "| hath| 1566|\n",
      "| lord| 1501|\n",
      "| love| 1481|\n",
      "| upon| 1434|\n",
      "|  let| 1392|\n",
      "|  ill| 1340|\n",
      "|  one| 1303|\n",
      "|  man| 1246|\n",
      "+-----+-----+\n",
      "only showing top 20 rows\n",
      "\n"
     ]
    }
   ],
   "source": [
    "# TODO: Replace <FILL IN> with appropriate code\n",
    "stopTopWordsOrderedDF = stopTopWordsFiltDF.<FILL IN>\n",
    "\n",
    "stopTopWordsOrderedDF.show()"
   ]
  },
  {
   "cell_type": "code",
   "execution_count": 128,
   "metadata": {},
   "outputs": [
    {
     "name": "stdout",
     "output_type": "stream",
     "text": [
      "1 test passed.\n"
     ]
    }
   ],
   "source": [
    "# TEST Count the words (5d)\n",
    "Test.assertEquals(stopTopWordsOrderedDF.take(10),\n",
    "                  [('thou', 3755), ('will', 3516), ('thy', 2945),('shall', 2768), ('king', 2428),  \n",
    "                   ('thee', 2295), ('o', 2279), ('now', 2158), ('enter', 2055), ('well', 1813)],\n",
    "                  'incorrect values for stopTopWordsOrderedDF')"
   ]
  },
  {
   "cell_type": "markdown",
   "metadata": {},
   "source": [
    "** Isn't it lovely to see to old English _stopwords_ pop-up. Additionally Shakespeare's most important themes are revealed: **\n",
    "    - King\n",
    "    - Good\n",
    "    - Lord\n",
    "    - Love\n",
    "    \n",
    "** Just the beginning of the magical world of text mining. ;-) **"
   ]
  },
  {
   "cell_type": "markdown",
   "metadata": {},
   "source": [
    "## Part 6: Write the results to disk"
   ]
  },
  {
   "cell_type": "markdown",
   "metadata": {},
   "source": [
    "** Now we have calculated all the results, we can write them distributed to HDFS or to a local file. **"
   ]
  },
  {
   "cell_type": "markdown",
   "metadata": {},
   "source": [
    "### (6a) Write to distributed Parquet to HDFS.\n",
    "\n",
    "** To do this, you can use the [`write()` method](http://spark.apache.org/docs/latest/api/python/pyspark.sql.html#pyspark.sql.DataFrame.write) and call `save()` on it. **"
   ]
  },
  {
   "cell_type": "code",
   "execution_count": null,
   "metadata": {},
   "outputs": [],
   "source": [
    "stopTopWordsOrderedDF.< FILL IN>"
   ]
  },
  {
   "cell_type": "markdown",
   "metadata": {},
   "source": [
    "### (6b) Write to a CSV file to local storage with only one partition.\n",
    "\n",
    "** Similarly to (6a), you can use the [`write()` method](http://spark.apache.org/docs/latest/api/python/pyspark.sql.html#pyspark.sql.DataFrame.write), but this time call `csv()` on it. Do not forget to repartition before you write to file **"
   ]
  },
  {
   "cell_type": "code",
   "execution_count": null,
   "metadata": {},
   "outputs": [],
   "source": [
    "fileName = \"/data/output/wordCountDF\"\n",
    "stopTopWordsOrderedDF.<FILL IN>"
   ]
  },
  {
   "cell_type": "markdown",
   "metadata": {},
   "source": [
    "# <center>The End</center>"
   ]
  },
  {
   "cell_type": "code",
   "execution_count": null,
   "metadata": {},
   "outputs": [],
   "source": []
  }
 ],
 "metadata": {
  "kernelspec": {
   "display_name": "Python 3",
   "language": "python",
   "name": "python3"
  },
  "language_info": {
   "codemirror_mode": {
    "name": "ipython",
    "version": 3
   },
   "file_extension": ".py",
   "mimetype": "text/x-python",
   "name": "python",
   "nbconvert_exporter": "python",
   "pygments_lexer": "ipython3",
   "version": "3.5.3"
  }
 },
 "nbformat": 4,
 "nbformat_minor": 2
}
