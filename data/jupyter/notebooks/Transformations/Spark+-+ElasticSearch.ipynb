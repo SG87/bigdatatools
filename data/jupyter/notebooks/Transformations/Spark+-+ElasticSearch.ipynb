{
 "cells": [
  {
   "cell_type": "markdown",
   "metadata": {},
   "source": [
    "# Connection Spark dataframes with ElasticSearch"
   ]
  },
  {
   "cell_type": "markdown",
   "metadata": {},
   "source": [
    "## Read in transformed data (as done in assignment)"
   ]
  },
  {
   "cell_type": "code",
   "execution_count": 2,
   "metadata": {},
   "outputs": [],
   "source": [
    "# read in\n",
    "filtered_data = spark.read.option(\"header\", True).load(\"file:///home/bigdata/assignment/data/input/filtered_data\")"
   ]
  },
  {
   "cell_type": "markdown",
   "metadata": {},
   "source": [
    "## Write dataframe to ES"
   ]
  },
  {
   "cell_type": "code",
   "execution_count": 4,
   "metadata": {},
   "outputs": [],
   "source": [
    "filtered_data.write.format(\"org.elasticsearch.spark.sql\").mode(\"overwrite\").save(\"/cars/cars_db\")"
   ]
  },
  {
   "cell_type": "markdown",
   "metadata": {},
   "source": [
    "## Read dataframe from ES"
   ]
  },
  {
   "cell_type": "code",
   "execution_count": 5,
   "metadata": {},
   "outputs": [],
   "source": [
    "data_from_es = spark.read.format(\"org.elasticsearch.spark.sql\").load(\"/cars/cars_db\")"
   ]
  },
  {
   "cell_type": "code",
   "execution_count": 6,
   "metadata": {},
   "outputs": [
    {
     "name": "stdout",
     "output_type": "stream",
     "text": [
      "+--------+-----+----------+--------------------+----------+---------------------+----------------+------------+--------------------+------------+\n",
      "|accident|  age| age_group|       bodyStyleName| brandName|cylinderCapacityValue|enginePowerValue|mileageValue|           modelName|sellingPrice|\n",
      "+--------+-----+----------+--------------------+----------+---------------------+----------------+------------+--------------------+------------+\n",
      "|     0.0| 0.99|very young|                 4x4|      Ford|               1997.0|           154.0|     34220.0|                Edge|     39900.0|\n",
      "|     0.0|34.85|  oldtimer|             Pick-Up| Chevrolet|               5000.0|           110.0|      4812.0|           el camino|     17500.0|\n",
      "|     0.0| 2.91|very young|            Compacte|      Opel|               1686.0|            81.0|     92574.0|               Astra|     10500.0|\n",
      "|     0.0| 3.33|     young|               Break|      Audi|               2967.0|           230.0|     70000.0|          A6 Allroad|     38950.0|\n",
      "|     0.0|  8.0|    medium|               Break|   Peugeot|               1997.0|           103.0|     79800.0|                 407|      8900.0|\n",
      "|     0.0|30.43|  oldtimer|               Coupe|Alfa Romeo|               2500.0|           118.0|     36000.0|                 GTV|     21500.0|\n",
      "|     0.0|  1.5|very young|                 4x4|   Renault|               1461.0|            81.0|     33500.0|              Kadjar|     21800.0|\n",
      "|     0.0|18.34|       old|                 4x4|Land Rover|               2495.0|            83.0|    295000.0|           Discovery|      6500.0|\n",
      "|     0.0| 7.67|    medium|Monovolume/Camion...|   Renault|               1461.0|            78.0|     84000.0|              Scenic|      7999.0|\n",
      "|     0.0|  3.5|     young|               Break|     Skoda|               1197.0|            77.0|     40500.0|             Octavia|     15490.0|\n",
      "|     0.0| 7.33|    medium|             Berline|    Suzuki|               1328.0|            68.0|    116000.0|               Swift|      5990.0|\n",
      "|     0.0| 0.66|very young|               Break|Volkswagen|               1968.0|            84.0|     10000.0|         Transporter|     29799.0|\n",
      "|     0.0|  4.5|     young|             Berline|     Skoda|               1598.0|            77.0|    106779.0|              Superb|     12990.0|\n",
      "|     0.0| 5.08|     young|             Berline|     Volvo|               1560.0|            84.0|     51000.0|                 V40|     13990.0|\n",
      "|     0.0| 0.99|very young|Monovolume/Camion...|Volkswagen|               1968.0|            75.0|     10500.0|               Caddy|     21500.0|\n",
      "|     0.0| 4.16|     young|             Berline|       BMW|               1995.0|           100.0|     83000.0|       318 Limousine|     16999.0|\n",
      "|     0.0| 2.16|very young|            Compacte|      Fiat|               1242.0|            51.0|      3658.0|                 500|     10500.0|\n",
      "|     0.0|  3.5|     young|            Compacte|       BMW|               1995.0|            85.0|     76959.0|1 HATCH DIESEL - ...|     20000.0|\n",
      "|     0.0|  6.5|     young|Monovolume/Camion...|Volkswagen|               1598.0|            77.0|    226000.0|              Touran|      6450.0|\n",
      "|     0.0| 9.58|    medium|             Berline|      Audi|               1896.0|            77.0|    182728.0|                 i10|      5599.0|\n",
      "+--------+-----+----------+--------------------+----------+---------------------+----------------+------------+--------------------+------------+\n",
      "only showing top 20 rows\n",
      "\n"
     ]
    },
    {
     "data": {
      "text/plain": [
       "27386"
      ]
     },
     "execution_count": 6,
     "metadata": {},
     "output_type": "execute_result"
    }
   ],
   "source": [
    "data_from_es.show()\n",
    "data_from_es.count()"
   ]
  },
  {
   "cell_type": "markdown",
   "metadata": {},
   "source": [
    "## Creation of JSON car dump"
   ]
  },
  {
   "cell_type": "code",
   "execution_count": 7,
   "metadata": {},
   "outputs": [],
   "source": [
    "filtered_data.write.json(\"file:///home/bigdata/assignment/data/input/cars.json\")"
   ]
  },
  {
   "cell_type": "code",
   "execution_count": null,
   "metadata": {},
   "outputs": [],
   "source": [
    "# sudo mv /home/bigdata/assignment/data/input/cars.json/part* /home/bigdata/assignment/data/input/cars\n",
    "# sudo rm -rf cars.json\n",
    "# sudo mv /home/bigdata/assignment/data/input/cars /home/bigdata/assignment/data/input/cars.json"
   ]
  }
 ],
 "metadata": {
  "kernelspec": {
   "display_name": "Python 2",
   "language": "python",
   "name": "python2"
  },
  "language_info": {
   "codemirror_mode": {
    "name": "ipython",
    "version": 2.0
   },
   "file_extension": ".py",
   "mimetype": "text/x-python",
   "name": "python",
   "nbconvert_exporter": "python",
   "pygments_lexer": "ipython2",
   "version": "2.7.12"
  }
 },
 "nbformat": 4,
 "nbformat_minor": 0
}