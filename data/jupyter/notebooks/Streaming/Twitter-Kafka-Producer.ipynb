{
 "cells": [
  {
   "cell_type": "markdown",
   "metadata": {},
   "source": [
    "# Creating a Twitter-Kafka Producer"
   ]
  },
  {
   "cell_type": "markdown",
   "metadata": {},
   "source": [
    "In this notebook we are going to connect to Twitter in real-time by using the tweepy Python module. \n",
    "Afterwards a Kafka producer is created. By running the application, we listen to a certain topic on Twitter transform the incoming stream and write it to a Kafka topic."
   ]
  },
  {
   "cell_type": "markdown",
   "metadata": {},
   "source": [
    "### Preprocessing"
   ]
  },
  {
   "cell_type": "markdown",
   "metadata": {},
   "source": [
    "If the import paragraph gives an error, install tweepy and kafka modules."
   ]
  },
  {
   "cell_type": "code",
   "execution_count": 2,
   "metadata": {},
   "outputs": [],
   "source": [
    "#%%bash\n",
    "#pip3 install tweepy kafka"
   ]
  },
  {
   "cell_type": "code",
   "execution_count": 3,
   "metadata": {},
   "outputs": [],
   "source": [
    "import tweepy\n",
    "import time\n",
    "from kafka import KafkaProducer\n",
    "import json\n",
    "import datetime"
   ]
  },
  {
   "cell_type": "markdown",
   "metadata": {},
   "source": [
    "### Create Kafka producer"
   ]
  },
  {
   "cell_type": "markdown",
   "metadata": {},
   "source": [
    "Within a Docker environment, you can refer to the bootstrap_servers (= Kafka server) by using kafka:29092. Doccker will resolve this to *kafka_ip*:9092.\n",
    "\n",
    "The *topic_name* will be used in the actions block as topic name to create and send the messages to."
   ]
  },
  {
   "cell_type": "code",
   "execution_count": 4,
   "metadata": {},
   "outputs": [],
   "source": [
    "producer = KafkaProducer(bootstrap_servers='kafka:29092')\n",
    "#topic_name = 'IESEG_MBD'\n",
    "topic_name = 'trump'"
   ]
  },
  {
   "cell_type": "markdown",
   "metadata": {},
   "source": [
    "### Create Twitter listener stream"
   ]
  },
  {
   "cell_type": "markdown",
   "metadata": {},
   "source": [
    "Twitter credentials"
   ]
  },
  {
   "cell_type": "code",
   "execution_count": 5,
   "metadata": {},
   "outputs": [],
   "source": [
    "api_key = \"GUo8OUhS3MzukAU5WcW9J4saU\"\n",
    "api_secret =  \"DzKro05ow6YKrtASDZph7pPCOg5wmO4Nl5uaGvgTHBfOp8zpwJ\"\n",
    "access_token =  \"2754263935-roAaGGAJPJvggyqbP3JsxS5SiEXkhmkKR6JOj0c\"\n",
    "access_token_secret =  \"6KLfzIUaygftQL14aTIgxoHYFKk7vE7AMw2slrcR1CcSl\""
   ]
  },
  {
   "cell_type": "markdown",
   "metadata": {},
   "source": [
    "Twitter athentification based on credentials given above."
   ]
  },
  {
   "cell_type": "code",
   "execution_count": 6,
   "metadata": {},
   "outputs": [],
   "source": [
    "# Creating the authentication object\n",
    "auth = tweepy.OAuthHandler(api_key, api_secret)\n",
    "# Setting your access token and secret\n",
    "auth.set_access_token(access_token, access_token_secret)\n",
    "# Creating the API object by passing in auth information\n",
    "api = tweepy.API(auth) "
   ]
  },
  {
   "cell_type": "markdown",
   "metadata": {},
   "source": [
    "*Actions* - This block is crutial and defines what needs to happen every time a tweet is processed:\n",
    "    - First, the twitter stream is transformed by selecting the necessary field\n",
    "    - Transformation of the stream to bytes\n",
    "    - Sending the stream to Kafka"
   ]
  },
  {
   "cell_type": "code",
   "execution_count": 7,
   "metadata": {},
   "outputs": [],
   "source": [
    "class MyStreamListener(tweepy.StreamListener):\n",
    "    def on_status(self, status):\n",
    "        # selection\n",
    "        record = {}\n",
    "        record[\"id\"] = status.id\n",
    "        record[\"created_at\"] = datetime.datetime.strftime(status.created_at, '%Y-%m-%d %H:%M:%S.%f')\n",
    "        record[\"text\"] = status.text\n",
    "        record[\"source\"] = status.source\n",
    "        record[\"user_id\"] = status.user.id\n",
    "        record[\"user_name\"] = status.user.name\n",
    "        record[\"user_location\"] = status.user.location\n",
    "        record[\"user_followers_count\"] = status.user.followers_count\n",
    "        record[\"user_friends_count\"] = status.user.friends_count\n",
    "        record[\"entities_hashtags\"] = status.entities[\"hashtags\"]\n",
    "        record[\"entities_user_mentions\"] = status.entities[\"user_mentions\"]\n",
    "        record[\"lang\"] = status.lang\n",
    "        # Transform to bytes\n",
    "        bytes_record = json.dumps(record).encode('utf-8')\n",
    "        # send to Kafka\n",
    "        producer.send(topic_name, bytes_record)"
   ]
  },
  {
   "cell_type": "markdown",
   "metadata": {},
   "source": [
    "### Define the stream"
   ]
  },
  {
   "cell_type": "code",
   "execution_count": null,
   "metadata": {},
   "outputs": [],
   "source": [
    "myStreamListener = MyStreamListener\n",
    "myStream = tweepy.Stream(auth = api.auth, listener=myStreamListener())"
   ]
  },
  {
   "cell_type": "markdown",
   "metadata": {},
   "source": [
    "### Run stream"
   ]
  },
  {
   "cell_type": "code",
   "execution_count": null,
   "metadata": {},
   "outputs": [],
   "source": [
    "myStream.filter(track=[\"trump\"])"
   ]
  },
  {
   "cell_type": "code",
   "execution_count": null,
   "metadata": {},
   "outputs": [],
   "source": []
  }
 ],
 "metadata": {
  "kernelspec": {
   "display_name": "Python 3",
   "language": "python",
   "name": "python3"
  },
  "language_info": {
   "codemirror_mode": {
    "name": "ipython",
    "version": 3
   },
   "file_extension": ".py",
   "mimetype": "text/x-python",
   "name": "python",
   "nbconvert_exporter": "python",
   "pygments_lexer": "ipython3",
   "version": "3.5.3"
  }
 },
 "nbformat": 4,
 "nbformat_minor": 2
}
