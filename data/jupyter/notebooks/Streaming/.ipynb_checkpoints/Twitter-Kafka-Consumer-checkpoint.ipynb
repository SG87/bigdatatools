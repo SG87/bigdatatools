{
 "cells": [
  {
   "cell_type": "markdown",
   "metadata": {},
   "source": [
    "# Creating a Twitter-Kafka Consumer"
   ]
  },
  {
   "cell_type": "markdown",
   "metadata": {},
   "source": [
    "In this notebook we are going to connect to Kafka by using the kafka Python module. \n",
    "By running the application, we listen to a certain topic in Kafka and capture the message to be able to do some usefulcalculations on the data.\n",
    "\n",
    "In this application we are going to create a Python consumer that adds the language to the tweets"
   ]
  },
  {
   "cell_type": "code",
   "execution_count": 13,
   "metadata": {},
   "outputs": [],
   "source": [
    "from kafka import KafkaConsumer, KafkaProducer\n",
    "import pandas\n",
    "import json\n",
    "import time"
   ]
  },
  {
   "cell_type": "markdown",
   "metadata": {},
   "source": [
    "## Create a Kafka consumer"
   ]
  },
  {
   "cell_type": "markdown",
   "metadata": {},
   "source": [
    "Define Kafka consumer"
   ]
  },
  {
   "cell_type": "code",
   "execution_count": 14,
   "metadata": {},
   "outputs": [],
   "source": [
    "topic = \"IESEG_MBD\"\n",
    "#topic = \"trump\"\n",
    "\n",
    "consumer = KafkaConsumer(topic, \n",
    "                         bootstrap_servers='kafka:29092',                                 \n",
    "                         auto_offset_reset='earliest',\n",
    "                         value_deserializer=lambda m: json.loads(m.decode('utf-8')))"
   ]
  },
  {
   "cell_type": "markdown",
   "metadata": {},
   "source": [
    "Test Kafka consumer"
   ]
  },
  {
   "cell_type": "code",
   "execution_count": 23,
   "metadata": {},
   "outputs": [
    {
     "data": {
      "text/plain": [
       "{TopicPartition(topic='trump', partition=0): [ConsumerRecord(topic='trump', partition=0, offset=6022, timestamp=1556347985937, timestamp_type=0, key=None, value={'entities_hashtags': [], 'user_friends_count': 3338, 'user_name': 'QUANTUM ENTANGLEMENT', 'source': 'Twitter for Android', 'user_followers_count': 1810, 'lang': 'en', 'created_at': '2019-04-27 06:53:00.000000', 'text': \"RT @TheSharpEdge1: POTUS on Hannity last night:\\n\\nHannity: 'Mr. President will you declassify the FISA applications, Gang of 8 material, tho…\", 'user_location': 'United States', 'entities_user_mentions': [{'id': 952758329301807104, 'indices': [3, 17], 'screen_name': 'TheSharpEdge1', 'name': 'TheSharpEdge', 'id_str': '952758329301807104'}], 'user_id': 436264794, 'id': 1122030871408672769}, checksum=733009405, serialized_key_size=-1, serialized_value_size=617),\n",
       "  ConsumerRecord(topic='trump', partition=0, offset=6023, timestamp=1556347985948, timestamp_type=0, key=None, value={'entities_hashtags': [], 'user_friends_count': 2960, 'user_name': 'Kill Your Darlings', 'source': 'Buffer', 'user_followers_count': 18235, 'lang': 'en', 'created_at': '2019-04-27 06:53:00.000000', 'text': 'RT @kyd_magazine: ‘When you’re teaching people to write, you’re also teaching them to keep writing. How do you organise your life in a way…', 'user_location': 'Australia', 'entities_user_mentions': [{'id': 69286682, 'indices': [3, 16], 'screen_name': 'kyd_magazine', 'name': 'Kill Your Darlings', 'id_str': '69286682'}], 'user_id': 69286682, 'id': 1122030871568105477}, checksum=1809193652, serialized_key_size=-1, serialized_value_size=595),\n",
       "  ConsumerRecord(topic='trump', partition=0, offset=6024, timestamp=1556347985994, timestamp_type=0, key=None, value={'entities_hashtags': [], 'user_friends_count': 58, 'user_name': 'pearl ide', 'source': 'Twitter Web App', 'user_followers_count': 4, 'lang': 'en', 'created_at': '2019-04-27 06:53:00.000000', 'text': 'Bill Burr - Tony Monsanto Poisoning Food Supply / Donald Trump - YouTube\\nhttps://t.co/gkY7KWvSJI', 'user_location': 'Atlanta, GA', 'entities_user_mentions': [], 'user_id': 1095358656642719745, 'id': 1122030871652048898}, checksum=747938984, serialized_key_size=-1, serialized_value_size=421),\n",
       "  ConsumerRecord(topic='trump', partition=0, offset=6025, timestamp=1556347986130, timestamp_type=0, key=None, value={'entities_hashtags': [], 'user_friends_count': 3021, 'user_name': 'Arto Valtonen', 'source': 'Twitter for Android', 'user_followers_count': 701, 'lang': 'und', 'created_at': '2019-04-27 06:53:00.000000', 'text': '@jsjostedt https://t.co/QbUI7CqTw6', 'user_location': 'Karlskrona, Sverige', 'entities_user_mentions': [{'id': 435854067, 'indices': [0, 10], 'screen_name': 'jsjostedt', 'name': 'Jonas Sjöstedt', 'id_str': '435854067'}], 'user_id': 2403644312, 'id': 1122030872281088000}, checksum=1949759967, serialized_key_size=-1, serialized_value_size=489),\n",
       "  ConsumerRecord(topic='trump', partition=0, offset=6026, timestamp=1556347986174, timestamp_type=0, key=None, value={'entities_hashtags': [], 'user_friends_count': 4528, 'user_name': 'The Lady Red- the night is dark and full of terror', 'source': 'Twitter for Android', 'user_followers_count': 3258, 'lang': 'cs', 'created_at': '2019-04-27 06:53:00.000000', 'text': 'RT @ParryPierce: Sounds kinda Kremliny... https://t.co/Ho5tkFAj6j', 'user_location': 'SoCal', 'entities_user_mentions': [{'id': 766057748316422147, 'indices': [3, 15], 'screen_name': 'ParryPierce', 'name': 'Pissed Off Granny', 'id_str': '766057748316422147'}], 'user_id': 438897163, 'id': 1122030872306151424}, checksum=-630167159, serialized_key_size=-1, serialized_value_size=560),\n",
       "  ConsumerRecord(topic='trump', partition=0, offset=6027, timestamp=1556347986240, timestamp_type=0, key=None, value={'entities_hashtags': [], 'user_friends_count': 1328, 'user_name': 'warsman', 'source': 'Twitter for Android', 'user_followers_count': 494, 'lang': 'en', 'created_at': '2019-04-27 06:53:01.000000', 'text': 'RT @dc_kurtz: The Trump era should have been a golden age for SNL and The Daily Show but these people are just so consistently mad that it…', 'user_location': None, 'entities_user_mentions': [{'id': 1065445102133358595, 'indices': [3, 12], 'screen_name': 'dc_kurtz', 'name': 'DC Kurtz', 'id_str': '1065445102133358595'}], 'user_id': 149400264, 'id': 1122030872776122368}, checksum=1619275427, serialized_key_size=-1, serialized_value_size=582),\n",
       "  ConsumerRecord(topic='trump', partition=0, offset=6028, timestamp=1556347986268, timestamp_type=0, key=None, value={'entities_hashtags': [], 'user_friends_count': 169, 'user_name': 'Julie Oswald', 'source': 'Twitter Web App', 'user_followers_count': 102, 'lang': 'en', 'created_at': '2019-04-27 06:53:01.000000', 'text': 'RT @CalebJHull: Trump just invited a mother on stage who said:\\n\\n\"Someone started banging on the door so hard it broke in two places... He w…', 'user_location': None, 'entities_user_mentions': [{'id': 239005322, 'indices': [3, 14], 'screen_name': 'CalebJHull', 'name': 'Caleb Hull', 'id_str': '239005322'}], 'user_id': 3973704312, 'id': 1122030872822263808}, checksum=-1378822368, serialized_key_size=-1, serialized_value_size=571),\n",
       "  ConsumerRecord(topic='trump', partition=0, offset=6029, timestamp=1556347986384, timestamp_type=0, key=None, value={'entities_hashtags': [], 'user_friends_count': 21632, 'user_name': 'Vickie4TRUMP🇺🇸I Am the NRA🇺🇸⭐⭐⭐🇮🇱', 'source': 'Twitter for Android', 'user_followers_count': 19804, 'lang': 'en', 'created_at': '2019-04-27 06:53:01.000000', 'text': \"RT @LisaMei62: I see the REAL sociopath is rambling again....\\n\\nJohn Brennan: 'Trump's Sociopathic Ramblings' - I Wasn't Part Of A 'Coup' ht…\", 'user_location': 'California, USA', 'entities_user_mentions': [{'id': 9427572, 'indices': [3, 13], 'screen_name': 'LisaMei62', 'name': 'Lisa Mei Crowley', 'id_str': '9427572'}], 'user_id': 955940127817195520, 'id': 1122030873124061184}, checksum=512098072, serialized_key_size=-1, serialized_value_size=702),\n",
       "  ConsumerRecord(topic='trump', partition=0, offset=6030, timestamp=1556347986476, timestamp_type=0, key=None, value={'entities_hashtags': [], 'user_friends_count': 314, 'user_name': 'Elizabeth Binitie', 'source': 'Twitter for iPhone', 'user_followers_count': 53, 'lang': 'en', 'created_at': '2019-04-27 06:53:01.000000', 'text': 'RT @keithboykin: So let me get this straight. Bill Clinton meeting on a plane with Loretta Lynch is corrupt because she was overseeing the…', 'user_location': None, 'entities_user_mentions': [{'id': 21728303, 'indices': [3, 15], 'screen_name': 'keithboykin', 'name': 'Keith Boykin', 'id_str': '21728303'}], 'user_id': 1486146991, 'id': 1122030873853997056}, checksum=483607505, serialized_key_size=-1, serialized_value_size=575),\n",
       "  ConsumerRecord(topic='trump', partition=0, offset=6031, timestamp=1556347986558, timestamp_type=0, key=None, value={'entities_hashtags': [], 'user_friends_count': 852, 'user_name': '𝓓𝓮𝓫𝓫𝓲𝓮 𝓼𝓪𝔂𝓼💭', 'source': 'Twitter for Android', 'user_followers_count': 291, 'lang': 'en', 'created_at': '2019-04-27 06:53:01.000000', 'text': 'RT @AshaRangappa_: Of note in Mueller Report is that the intelligence community learned about Flynn’s communications because they were surp…', 'user_location': 'United States', 'entities_user_mentions': [{'id': 510464011, 'indices': [3, 17], 'screen_name': 'AshaRangappa_', 'name': 'Asha Rangappa', 'id_str': '510464011'}], 'user_id': 3432511145, 'id': 1122030874055327744}, checksum=2071443680, serialized_key_size=-1, serialized_value_size=715),\n",
       "  ConsumerRecord(topic='trump', partition=0, offset=6032, timestamp=1556347986693, timestamp_type=0, key=None, value={'entities_hashtags': [], 'user_friends_count': 740, 'user_name': 'Fred Pullin', 'source': 'Twitter Web App', 'user_followers_count': 582, 'lang': 'en', 'created_at': '2019-04-27 06:53:01.000000', 'text': 'to be fair people are going to read this and go on with their day as the sky starts raining blood, thanks Slayer\\n\\nhttps://t.co/VqdwuPafXE', 'user_location': 'Berlin, Germany', 'entities_user_mentions': [], 'user_id': 261080672, 'id': 1122030874625761286}, checksum=1137629950, serialized_key_size=-1, serialized_value_size=462),\n",
       "  ConsumerRecord(topic='trump', partition=0, offset=6033, timestamp=1556347986901, timestamp_type=0, key=None, value={'entities_hashtags': [], 'user_friends_count': 6594, 'user_name': 'Nasty-Feminist #StandUpNOW', 'source': 'Twitter for iPhone', 'user_followers_count': 6742, 'lang': 'en', 'created_at': '2019-04-27 06:53:01.000000', 'text': 'RT @ResilientUnion: Could Don McGahn lead a Trump exodus? Republican lawyers may be ready to jump off sinking ship https://t.co/TucIDLTjZg', 'user_location': '🇺🇸', 'entities_user_mentions': [{'id': 1026836571247587328, 'indices': [3, 18], 'screen_name': 'ResilientUnion', 'name': 'Resilient Union', 'id_str': '1026836571247587328'}], 'user_id': 818237482454151168, 'id': 1122030875410141184}, checksum=1496074794, serialized_key_size=-1, serialized_value_size=639),\n",
       "  ConsumerRecord(topic='trump', partition=0, offset=6034, timestamp=1556347986965, timestamp_type=0, key=None, value={'entities_hashtags': [{'text': 'IStandWithJeremyCorbyn', 'indices': [16, 39]}], 'user_friends_count': 82, 'user_name': 'Eileen Rushdi', 'source': 'Twitter for Android', 'user_followers_count': 739, 'lang': 'da', 'created_at': '2019-04-27 06:53:01.000000', 'text': 'RT @PabloRed62: #IStandWithJeremyCorbyn  Corbyn = Statesman. Trump = Fraudster. https://t.co/2XVJsf5IoW', 'user_location': None, 'entities_user_mentions': [{'id': 1021056829374324736, 'indices': [3, 14], 'screen_name': 'PabloRed62', 'name': 'Pablo Militante', 'id_str': '1021056829374324736'}], 'user_id': 551342421, 'id': 1122030875800109057}, checksum=1640965491, serialized_key_size=-1, serialized_value_size=609),\n",
       "  ConsumerRecord(topic='trump', partition=0, offset=6035, timestamp=1556347986969, timestamp_type=0, key=None, value={'entities_hashtags': [], 'user_friends_count': 256, 'user_name': 'llarks 🌹 #RunBernieRun', 'source': 'Twitter for iPad', 'user_followers_count': 937, 'lang': 'en', 'created_at': '2019-04-27 06:53:01.000000', 'text': 'RT @EdgeofSports: Announcement just happens to come the day that Trump defends - again - the violent white supremacists who descended upon…', 'user_location': 'West Covina', 'entities_user_mentions': [{'id': 50684256, 'indices': [3, 16], 'screen_name': 'EdgeofSports', 'name': 'Dave Zirin', 'id_str': '50684256'}], 'user_id': 18910693, 'id': 1122030875678367744}, checksum=-1678865531, serialized_key_size=-1, serialized_value_size=596),\n",
       "  ConsumerRecord(topic='trump', partition=0, offset=6036, timestamp=1556347987196, timestamp_type=0, key=None, value={'entities_hashtags': [], 'user_friends_count': 206, 'user_name': 'Manu', 'source': 'Twitter for iPhone', 'user_followers_count': 48, 'lang': 'en', 'created_at': '2019-04-27 06:53:02.000000', 'text': \"RT @SethAbramson: BREAKING NEWS: Yesterday a NYT article confirmed that, for counterintelligence purposes, Trump's campaign did coordinate…\", 'user_location': 'Riva del Garda, Trentino-Südtirol', 'entities_user_mentions': [{'id': 3223426134, 'indices': [3, 16], 'screen_name': 'SethAbramson', 'name': 'Seth Abramson', 'id_str': '3223426134'}], 'user_id': 739524634136223744, 'id': 1122030876819378176}, checksum=346410520, serialized_key_size=-1, serialized_value_size=612)]}"
      ]
     },
     "execution_count": 23,
     "metadata": {},
     "output_type": "execute_result"
    }
   ],
   "source": [
    "c = consumer.poll()\n",
    "c"
   ]
  },
  {
   "cell_type": "markdown",
   "metadata": {},
   "source": [
    "## Create a language DF in pandas"
   ]
  },
  {
   "cell_type": "code",
   "execution_count": 16,
   "metadata": {},
   "outputs": [
    {
     "data": {
      "text/html": [
       "<div>\n",
       "<style scoped>\n",
       "    .dataframe tbody tr th:only-of-type {\n",
       "        vertical-align: middle;\n",
       "    }\n",
       "\n",
       "    .dataframe tbody tr th {\n",
       "        vertical-align: top;\n",
       "    }\n",
       "\n",
       "    .dataframe thead th {\n",
       "        text-align: right;\n",
       "    }\n",
       "</style>\n",
       "<table border=\"1\" class=\"dataframe\">\n",
       "  <thead>\n",
       "    <tr style=\"text-align: right;\">\n",
       "      <th></th>\n",
       "      <th>lang</th>\n",
       "      <th>language</th>\n",
       "    </tr>\n",
       "  </thead>\n",
       "  <tbody>\n",
       "    <tr>\n",
       "      <th>0</th>\n",
       "      <td>in</td>\n",
       "      <td>Indian</td>\n",
       "    </tr>\n",
       "    <tr>\n",
       "      <th>1</th>\n",
       "      <td>en</td>\n",
       "      <td>English</td>\n",
       "    </tr>\n",
       "    <tr>\n",
       "      <th>2</th>\n",
       "      <td>hi</td>\n",
       "      <td>Hindi</td>\n",
       "    </tr>\n",
       "    <tr>\n",
       "      <th>3</th>\n",
       "      <td>fr</td>\n",
       "      <td>French</td>\n",
       "    </tr>\n",
       "    <tr>\n",
       "      <th>4</th>\n",
       "      <td>de</td>\n",
       "      <td>German</td>\n",
       "    </tr>\n",
       "    <tr>\n",
       "      <th>5</th>\n",
       "      <td>nl</td>\n",
       "      <td>Dutch</td>\n",
       "    </tr>\n",
       "    <tr>\n",
       "      <th>6</th>\n",
       "      <td>ar</td>\n",
       "      <td>arabic</td>\n",
       "    </tr>\n",
       "    <tr>\n",
       "      <th>7</th>\n",
       "      <td>ja</td>\n",
       "      <td>Japanese</td>\n",
       "    </tr>\n",
       "    <tr>\n",
       "      <th>8</th>\n",
       "      <td>ru</td>\n",
       "      <td>Russian</td>\n",
       "    </tr>\n",
       "    <tr>\n",
       "      <th>9</th>\n",
       "      <td>es</td>\n",
       "      <td>Spanish</td>\n",
       "    </tr>\n",
       "    <tr>\n",
       "      <th>10</th>\n",
       "      <td>zh</td>\n",
       "      <td>Chinese</td>\n",
       "    </tr>\n",
       "  </tbody>\n",
       "</table>\n",
       "</div>"
      ],
      "text/plain": [
       "   lang  language\n",
       "0    in    Indian\n",
       "1    en   English\n",
       "2    hi     Hindi\n",
       "3    fr    French\n",
       "4    de    German\n",
       "5    nl     Dutch\n",
       "6    ar    arabic\n",
       "7    ja  Japanese\n",
       "8    ru   Russian\n",
       "9    es   Spanish\n",
       "10   zh   Chinese"
      ]
     },
     "execution_count": 16,
     "metadata": {},
     "output_type": "execute_result"
    }
   ],
   "source": [
    "lang_list =  [(\"in\", \"Indian\"), (\"en\", \"English\"), (\"hi\", \"Hindi\"), (\"fr\", \"French\"), (\"de\", \"German\"), (\"nl\", \"Dutch\"), (\"ar\", \"arabic\"), (\"ja\", \"Japanese\"), (\"ru\", \"Russian\"), (\"es\", \"Spanish\"), (\"zh\", \"Chinese\")]\n",
    "languagesDF = pandas.DataFrame(lang_list, columns=[\"lang\", \"language\"])\n",
    "\n",
    "languagesDF\n"
   ]
  },
  {
   "cell_type": "markdown",
   "metadata": {},
   "source": [
    "## Actions"
   ]
  },
  {
   "cell_type": "markdown",
   "metadata": {},
   "source": [
    "Create a function that allows to merge the realtime tweets flow, transfrom it to pandas and merge with the language DF."
   ]
  },
  {
   "cell_type": "code",
   "execution_count": 17,
   "metadata": {},
   "outputs": [],
   "source": [
    "def add_language():\n",
    "    c = consumer.poll()\n",
    "    if c != {}:\n",
    "        list_of_dict = list(map(lambda a: a.value, list(c.values())[0]))\n",
    "        tweetDF = pandas.DataFrame(list_of_dict)\n",
    "        tweetDF = tweetDF.merge(languagesDF, on=\"lang\", how=\"left\")  \n",
    "    else:\n",
    "        tweetDF = \"No tweets to process\"\n",
    "    \n",
    "    return tweetDF\n"
   ]
  },
  {
   "cell_type": "code",
   "execution_count": 18,
   "metadata": {},
   "outputs": [
    {
     "data": {
      "text/plain": [
       "'No tweets to process'"
      ]
     },
     "execution_count": 18,
     "metadata": {},
     "output_type": "execute_result"
    }
   ],
   "source": [
    "add_language()"
   ]
  },
  {
   "cell_type": "markdown",
   "metadata": {},
   "source": [
    "Create a function that calculates count statistics on the DF tweet stream."
   ]
  },
  {
   "cell_type": "code",
   "execution_count": 21,
   "metadata": {},
   "outputs": [],
   "source": [
    "def statistics():\n",
    "    tweetDF = add_language()\n",
    "    if type(tweetDF) != str:\n",
    "        print(\"Number of processed tweets: \", len(tweetDF))\n",
    "        print(\"Number of tweets with a known language\", len(tweetDF.dropna(subset=[\"language\"])))\n",
    "        print(\"Number of tweets grouped by language:\", tweetDF[[\"language\", \"id\"]].groupby([\"language\"]).count())\n",
    "        print(\"\")\n",
    "    else:\n",
    "        print(tweetDF)"
   ]
  },
  {
   "cell_type": "markdown",
   "metadata": {},
   "source": [
    "Run the actions 10 times"
   ]
  },
  {
   "cell_type": "code",
   "execution_count": 22,
   "metadata": {},
   "outputs": [
    {
     "name": "stdout",
     "output_type": "stream",
     "text": [
      "Number of processed tweets:  500\n",
      "Number of tweets with a known language 483\n",
      "Number of tweets grouped by language:            id\n",
      "language     \n",
      "English   457\n",
      "French      6\n",
      "German      6\n",
      "Hindi       1\n",
      "Indian      1\n",
      "Japanese    4\n",
      "Spanish     7\n",
      "arabic      1\n",
      "\n",
      "Number of processed tweets:  500\n",
      "Number of tweets with a known language 484\n",
      "Number of tweets grouped by language:            id\n",
      "language     \n",
      "English   467\n",
      "French      5\n",
      "German      1\n",
      "Indian      1\n",
      "Japanese    3\n",
      "Spanish     5\n",
      "arabic      2\n",
      "\n",
      "Number of processed tweets:  9\n",
      "Number of tweets with a known language 9\n",
      "Number of tweets grouped by language:           id\n",
      "language    \n",
      "English    9\n",
      "\n",
      "Number of processed tweets:  500\n",
      "Number of tweets with a known language 487\n",
      "Number of tweets grouped by language:            id\n",
      "language     \n",
      "Dutch       2\n",
      "English   460\n",
      "French     11\n",
      "German      4\n",
      "Hindi       2\n",
      "Indian      1\n",
      "Japanese    1\n",
      "Spanish     6\n",
      "\n",
      "Number of processed tweets:  500\n",
      "Number of tweets with a known language 485\n",
      "Number of tweets grouped by language:            id\n",
      "language     \n",
      "Dutch       2\n",
      "English   462\n",
      "French      3\n",
      "German      3\n",
      "Hindi       1\n",
      "Indian      1\n",
      "Japanese    6\n",
      "Spanish     7\n",
      "\n",
      "Number of processed tweets:  500\n",
      "Number of tweets with a known language 483\n",
      "Number of tweets grouped by language:            id\n",
      "language     \n",
      "Dutch       1\n",
      "English   459\n",
      "French      6\n",
      "German      5\n",
      "Japanese    3\n",
      "Spanish     9\n",
      "\n",
      "Number of processed tweets:  8\n",
      "Number of tweets with a known language 7\n",
      "Number of tweets grouped by language:           id\n",
      "language    \n",
      "English    7\n",
      "\n",
      "Number of processed tweets:  500\n",
      "Number of tweets with a known language 477\n",
      "Number of tweets grouped by language:            id\n",
      "language     \n",
      "Dutch       1\n",
      "English   462\n",
      "French      5\n",
      "German      3\n",
      "Spanish     4\n",
      "arabic      2\n",
      "\n",
      "Number of processed tweets:  500\n",
      "Number of tweets with a known language 487\n",
      "Number of tweets grouped by language:            id\n",
      "language     \n",
      "Chinese     1\n",
      "Dutch       3\n",
      "English   458\n",
      "French      4\n",
      "German      6\n",
      "Hindi       1\n",
      "Indian      1\n",
      "Japanese    6\n",
      "Spanish     6\n",
      "arabic      1\n",
      "\n",
      "Number of processed tweets:  500\n",
      "Number of tweets with a known language 476\n",
      "Number of tweets grouped by language:            id\n",
      "language     \n",
      "Dutch       1\n",
      "English   457\n",
      "French      7\n",
      "German      2\n",
      "Hindi       1\n",
      "Japanese    2\n",
      "Spanish     6\n",
      "\n"
     ]
    }
   ],
   "source": [
    "i = 0\n",
    "while i < 10:\n",
    "    statistics()\n",
    "    i += 1\n",
    "    time.sleep(5)"
   ]
  },
  {
   "cell_type": "code",
   "execution_count": null,
   "metadata": {},
   "outputs": [],
   "source": []
  }
 ],
 "metadata": {
  "kernelspec": {
   "display_name": "Python 3",
   "language": "python",
   "name": "python3"
  },
  "language_info": {
   "codemirror_mode": {
    "name": "ipython",
    "version": 3
   },
   "file_extension": ".py",
   "mimetype": "text/x-python",
   "name": "python",
   "nbconvert_exporter": "python",
   "pygments_lexer": "ipython3",
   "version": "3.5.3"
  }
 },
 "nbformat": 4,
 "nbformat_minor": 2
}
