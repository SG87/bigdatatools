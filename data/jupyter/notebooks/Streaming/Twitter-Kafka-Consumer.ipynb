{
 "cells": [
  {
   "cell_type": "markdown",
   "metadata": {},
   "source": [
    "# Creating a Twitter-Kafka Consumer"
   ]
  },
  {
   "cell_type": "markdown",
   "metadata": {},
   "source": [
    "In this notebook we are going to connect to Kafka by using the kafka Python module. \n",
    "By running the application, we listen to a certain topic in Kafka and capture the message to be able to do some usefulcalculations on the data.\n",
    "\n",
    "In this application we are going to create a Python consumer that adds the language to the tweets"
   ]
  },
  {
   "cell_type": "code",
   "execution_count": 5,
   "metadata": {},
   "outputs": [],
   "source": [
    "from kafka import KafkaConsumer, KafkaProducer\n",
    "import pandas\n",
    "import json\n",
    "import time"
   ]
  },
  {
   "cell_type": "markdown",
   "metadata": {},
   "source": [
    "## Create a Kafka consumer"
   ]
  },
  {
   "cell_type": "markdown",
   "metadata": {},
   "source": [
    "Define Kafka consumer"
   ]
  },
  {
   "cell_type": "code",
   "execution_count": 6,
   "metadata": {},
   "outputs": [],
   "source": [
    "topic = \"IESEG_MBD\"\n",
    "#topic = \"trump\"\n",
    "\n",
    "consumer = KafkaConsumer(topic, \n",
    "                         bootstrap_servers='kafka:29092',                                 \n",
    "                         auto_offset_reset='earliest',\n",
    "                         value_deserializer=lambda m: json.loads(m.decode('utf-8')))"
   ]
  },
  {
   "cell_type": "markdown",
   "metadata": {},
   "source": [
    "Test Kafka consumer"
   ]
  },
  {
   "cell_type": "code",
   "execution_count": 7,
   "metadata": {},
   "outputs": [
    {
     "data": {
      "text/plain": [
       "{}"
      ]
     },
     "execution_count": 7,
     "metadata": {},
     "output_type": "execute_result"
    }
   ],
   "source": [
    "c = consumer.poll()\n",
    "c"
   ]
  },
  {
   "cell_type": "markdown",
   "metadata": {},
   "source": [
    "## Create a language DF in pandas"
   ]
  },
  {
   "cell_type": "code",
   "execution_count": 8,
   "metadata": {},
   "outputs": [
    {
     "data": {
      "text/html": [
       "<div>\n",
       "<style scoped>\n",
       "    .dataframe tbody tr th:only-of-type {\n",
       "        vertical-align: middle;\n",
       "    }\n",
       "\n",
       "    .dataframe tbody tr th {\n",
       "        vertical-align: top;\n",
       "    }\n",
       "\n",
       "    .dataframe thead th {\n",
       "        text-align: right;\n",
       "    }\n",
       "</style>\n",
       "<table border=\"1\" class=\"dataframe\">\n",
       "  <thead>\n",
       "    <tr style=\"text-align: right;\">\n",
       "      <th></th>\n",
       "      <th>lang</th>\n",
       "      <th>language</th>\n",
       "    </tr>\n",
       "  </thead>\n",
       "  <tbody>\n",
       "    <tr>\n",
       "      <th>0</th>\n",
       "      <td>in</td>\n",
       "      <td>Indian</td>\n",
       "    </tr>\n",
       "    <tr>\n",
       "      <th>1</th>\n",
       "      <td>en</td>\n",
       "      <td>English</td>\n",
       "    </tr>\n",
       "    <tr>\n",
       "      <th>2</th>\n",
       "      <td>hi</td>\n",
       "      <td>Hindi</td>\n",
       "    </tr>\n",
       "    <tr>\n",
       "      <th>3</th>\n",
       "      <td>fr</td>\n",
       "      <td>French</td>\n",
       "    </tr>\n",
       "    <tr>\n",
       "      <th>4</th>\n",
       "      <td>de</td>\n",
       "      <td>German</td>\n",
       "    </tr>\n",
       "    <tr>\n",
       "      <th>5</th>\n",
       "      <td>nl</td>\n",
       "      <td>Dutch</td>\n",
       "    </tr>\n",
       "    <tr>\n",
       "      <th>6</th>\n",
       "      <td>ar</td>\n",
       "      <td>arabic</td>\n",
       "    </tr>\n",
       "    <tr>\n",
       "      <th>7</th>\n",
       "      <td>ja</td>\n",
       "      <td>Japanese</td>\n",
       "    </tr>\n",
       "    <tr>\n",
       "      <th>8</th>\n",
       "      <td>ru</td>\n",
       "      <td>Russian</td>\n",
       "    </tr>\n",
       "    <tr>\n",
       "      <th>9</th>\n",
       "      <td>es</td>\n",
       "      <td>Spanish</td>\n",
       "    </tr>\n",
       "    <tr>\n",
       "      <th>10</th>\n",
       "      <td>zh</td>\n",
       "      <td>Chinese</td>\n",
       "    </tr>\n",
       "  </tbody>\n",
       "</table>\n",
       "</div>"
      ],
      "text/plain": [
       "   lang  language\n",
       "0    in    Indian\n",
       "1    en   English\n",
       "2    hi     Hindi\n",
       "3    fr    French\n",
       "4    de    German\n",
       "5    nl     Dutch\n",
       "6    ar    arabic\n",
       "7    ja  Japanese\n",
       "8    ru   Russian\n",
       "9    es   Spanish\n",
       "10   zh   Chinese"
      ]
     },
     "execution_count": 8,
     "metadata": {},
     "output_type": "execute_result"
    }
   ],
   "source": [
    "lang_list =  [(\"in\", \"Indian\"), (\"en\", \"English\"), (\"hi\", \"Hindi\"), (\"fr\", \"French\"), (\"de\", \"German\"), (\"nl\", \"Dutch\"), (\"ar\", \"arabic\"), (\"ja\", \"Japanese\"), (\"ru\", \"Russian\"), (\"es\", \"Spanish\"), (\"zh\", \"Chinese\")]\n",
    "languagesDF = pandas.DataFrame(lang_list, columns=[\"lang\", \"language\"])\n",
    "\n",
    "languagesDF\n"
   ]
  },
  {
   "cell_type": "markdown",
   "metadata": {},
   "source": [
    "## Actions"
   ]
  },
  {
   "cell_type": "markdown",
   "metadata": {},
   "source": [
    "Create a function that allows to merge the realtime tweets flow, transfrom it to pandas and merge with the language DF."
   ]
  },
  {
   "cell_type": "code",
   "execution_count": 9,
   "metadata": {},
   "outputs": [],
   "source": [
    "def add_language():\n",
    "    c = consumer.poll()\n",
    "    if c != {}:\n",
    "        list_of_dict = list(map(lambda a: a.value, list(c.values())[0]))\n",
    "        tweetDF = pandas.DataFrame(list_of_dict)\n",
    "        tweetDF = tweetDF.merge(languagesDF, on=\"lang\", how=\"left\")  \n",
    "    else:\n",
    "        tweetDF = \"No tweets to process\"\n",
    "    \n",
    "    return tweetDF\n"
   ]
  },
  {
   "cell_type": "code",
   "execution_count": 10,
   "metadata": {},
   "outputs": [
    {
     "data": {
      "text/plain": [
       "'No tweets to process'"
      ]
     },
     "execution_count": 10,
     "metadata": {},
     "output_type": "execute_result"
    }
   ],
   "source": [
    "add_language()"
   ]
  },
  {
   "cell_type": "markdown",
   "metadata": {},
   "source": [
    "Create a function that calculates count statistics on the DF tweet stream."
   ]
  },
  {
   "cell_type": "code",
   "execution_count": 11,
   "metadata": {},
   "outputs": [],
   "source": [
    "def statistics():\n",
    "    tweetDF = add_language()\n",
    "    if type(tweetDF) != str:\n",
    "        print(\"Number of processed tweets: \", len(tweetDF))\n",
    "        print(\"Number of tweets with a known language\", len(tweetDF.dropna(subset=[\"language\"])))\n",
    "        print(\"Number of tweets grouped by language:\", tweetDF[[\"language\", \"id\"]].groupby([\"language\"]).count())\n",
    "        print(\"\")\n",
    "    else:\n",
    "        print(tweetDF)"
   ]
  },
  {
   "cell_type": "markdown",
   "metadata": {},
   "source": [
    "Run the actions 10 times"
   ]
  },
  {
   "cell_type": "code",
   "execution_count": 12,
   "metadata": {},
   "outputs": [
    {
     "name": "stdout",
     "output_type": "stream",
     "text": [
      "No tweets to process\n",
      "No tweets to process\n",
      "No tweets to process\n",
      "No tweets to process\n",
      "No tweets to process\n",
      "No tweets to process\n",
      "No tweets to process\n",
      "No tweets to process\n",
      "No tweets to process\n",
      "No tweets to process\n"
     ]
    }
   ],
   "source": [
    "i = 0\n",
    "while i < 10:\n",
    "    statistics()\n",
    "    i += 1\n",
    "    time.sleep(5)"
   ]
  },
  {
   "cell_type": "code",
   "execution_count": null,
   "metadata": {},
   "outputs": [],
   "source": []
  }
 ],
 "metadata": {
  "kernelspec": {
   "display_name": "Python 3",
   "language": "python",
   "name": "python3"
  },
  "language_info": {
   "codemirror_mode": {
    "name": "ipython",
    "version": 3
   },
   "file_extension": ".py",
   "mimetype": "text/x-python",
   "name": "python",
   "nbconvert_exporter": "python",
   "pygments_lexer": "ipython3",
   "version": "3.5.3"
  }
 },
 "nbformat": 4,
 "nbformat_minor": 2
}
